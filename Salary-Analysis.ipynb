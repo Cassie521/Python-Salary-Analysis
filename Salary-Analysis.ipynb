{
 "cells": [
  {
   "cell_type": "markdown",
   "id": "2377b08c",
   "metadata": {},
   "source": [
    "# MIE1624 Assignment 1 \n"
   ]
  },
  {
   "cell_type": "code",
   "execution_count": 1,
   "id": "84161b04",
   "metadata": {},
   "outputs": [],
   "source": [
    "#import libraries \n",
    "import pandas as pd \n",
    "import numpy as np \n",
    "import matplotlib.pyplot as plt \n",
    "import random\n",
    "from scipy import stats\n",
    "from sklearn.utils import resample\n",
    "from scipy.stats import f_oneway \n",
    "\n",
    "\n"
   ]
  },
  {
   "cell_type": "code",
   "execution_count": 2,
   "id": "e3e69787",
   "metadata": {},
   "outputs": [
    {
     "name": "stderr",
     "output_type": "stream",
     "text": [
      "/opt/anaconda3/lib/python3.9/site-packages/IPython/core/interactiveshell.py:3444: DtypeWarning: Columns (285) have mixed types.Specify dtype option on import or set low_memory=False.\n",
      "  exec(code_obj, self.user_global_ns, self.user_ns)\n"
     ]
    }
   ],
   "source": [
    "df = pd.read_csv(\"clean_kaggle_data.csv\") #read the dataset into python 3 "
   ]
  },
  {
   "cell_type": "code",
   "execution_count": 3,
   "id": "6a98717d",
   "metadata": {},
   "outputs": [
    {
     "data": {
      "text/html": [
       "<div>\n",
       "<style scoped>\n",
       "    .dataframe tbody tr th:only-of-type {\n",
       "        vertical-align: middle;\n",
       "    }\n",
       "\n",
       "    .dataframe tbody tr th {\n",
       "        vertical-align: top;\n",
       "    }\n",
       "\n",
       "    .dataframe thead th {\n",
       "        text-align: right;\n",
       "    }\n",
       "</style>\n",
       "<table border=\"1\" class=\"dataframe\">\n",
       "  <thead>\n",
       "    <tr style=\"text-align: right;\">\n",
       "      <th></th>\n",
       "      <th>Unnamed: 0</th>\n",
       "      <th>Time from Start to Finish (seconds)</th>\n",
       "      <th>Q1</th>\n",
       "      <th>Q2</th>\n",
       "      <th>Q3</th>\n",
       "      <th>Q4</th>\n",
       "      <th>Q5</th>\n",
       "      <th>Q6</th>\n",
       "      <th>Q7_Part_1</th>\n",
       "      <th>Q7_Part_2</th>\n",
       "      <th>...</th>\n",
       "      <th>Q38_B_Part_3</th>\n",
       "      <th>Q38_B_Part_4</th>\n",
       "      <th>Q38_B_Part_5</th>\n",
       "      <th>Q38_B_Part_6</th>\n",
       "      <th>Q38_B_Part_7</th>\n",
       "      <th>Q38_B_Part_8</th>\n",
       "      <th>Q38_B_Part_9</th>\n",
       "      <th>Q38_B_Part_10</th>\n",
       "      <th>Q38_B_Part_11</th>\n",
       "      <th>Q38_B_OTHER</th>\n",
       "    </tr>\n",
       "  </thead>\n",
       "  <tbody>\n",
       "    <tr>\n",
       "      <th>0</th>\n",
       "      <td>1</td>\n",
       "      <td>910</td>\n",
       "      <td>50-54</td>\n",
       "      <td>Man</td>\n",
       "      <td>India</td>\n",
       "      <td>Bachelor’s degree</td>\n",
       "      <td>Other</td>\n",
       "      <td>5-10 years</td>\n",
       "      <td>Python</td>\n",
       "      <td>R</td>\n",
       "      <td>...</td>\n",
       "      <td>NaN</td>\n",
       "      <td>NaN</td>\n",
       "      <td>NaN</td>\n",
       "      <td>NaN</td>\n",
       "      <td>NaN</td>\n",
       "      <td>NaN</td>\n",
       "      <td>NaN</td>\n",
       "      <td>NaN</td>\n",
       "      <td>NaN</td>\n",
       "      <td>NaN</td>\n",
       "    </tr>\n",
       "    <tr>\n",
       "      <th>1</th>\n",
       "      <td>2</td>\n",
       "      <td>784</td>\n",
       "      <td>50-54</td>\n",
       "      <td>Man</td>\n",
       "      <td>Indonesia</td>\n",
       "      <td>Master’s degree</td>\n",
       "      <td>Program/Project Manager</td>\n",
       "      <td>20+ years</td>\n",
       "      <td>NaN</td>\n",
       "      <td>NaN</td>\n",
       "      <td>...</td>\n",
       "      <td>NaN</td>\n",
       "      <td>NaN</td>\n",
       "      <td>NaN</td>\n",
       "      <td>NaN</td>\n",
       "      <td>NaN</td>\n",
       "      <td>NaN</td>\n",
       "      <td>NaN</td>\n",
       "      <td>NaN</td>\n",
       "      <td>None</td>\n",
       "      <td>NaN</td>\n",
       "    </tr>\n",
       "    <tr>\n",
       "      <th>2</th>\n",
       "      <td>3</td>\n",
       "      <td>924</td>\n",
       "      <td>22-24</td>\n",
       "      <td>Man</td>\n",
       "      <td>Pakistan</td>\n",
       "      <td>Master’s degree</td>\n",
       "      <td>Software Engineer</td>\n",
       "      <td>1-3 years</td>\n",
       "      <td>Python</td>\n",
       "      <td>NaN</td>\n",
       "      <td>...</td>\n",
       "      <td>NaN</td>\n",
       "      <td>NaN</td>\n",
       "      <td>TensorBoard</td>\n",
       "      <td>NaN</td>\n",
       "      <td>NaN</td>\n",
       "      <td>NaN</td>\n",
       "      <td>NaN</td>\n",
       "      <td>NaN</td>\n",
       "      <td>NaN</td>\n",
       "      <td>NaN</td>\n",
       "    </tr>\n",
       "    <tr>\n",
       "      <th>3</th>\n",
       "      <td>4</td>\n",
       "      <td>575</td>\n",
       "      <td>45-49</td>\n",
       "      <td>Man</td>\n",
       "      <td>Mexico</td>\n",
       "      <td>Doctoral degree</td>\n",
       "      <td>Research Scientist</td>\n",
       "      <td>20+ years</td>\n",
       "      <td>Python</td>\n",
       "      <td>NaN</td>\n",
       "      <td>...</td>\n",
       "      <td>NaN</td>\n",
       "      <td>NaN</td>\n",
       "      <td>NaN</td>\n",
       "      <td>NaN</td>\n",
       "      <td>NaN</td>\n",
       "      <td>NaN</td>\n",
       "      <td>NaN</td>\n",
       "      <td>NaN</td>\n",
       "      <td>None</td>\n",
       "      <td>NaN</td>\n",
       "    </tr>\n",
       "    <tr>\n",
       "      <th>4</th>\n",
       "      <td>5</td>\n",
       "      <td>781</td>\n",
       "      <td>45-49</td>\n",
       "      <td>Man</td>\n",
       "      <td>India</td>\n",
       "      <td>Doctoral degree</td>\n",
       "      <td>Other</td>\n",
       "      <td>&lt; 1 years</td>\n",
       "      <td>Python</td>\n",
       "      <td>NaN</td>\n",
       "      <td>...</td>\n",
       "      <td>NaN</td>\n",
       "      <td>NaN</td>\n",
       "      <td>NaN</td>\n",
       "      <td>NaN</td>\n",
       "      <td>NaN</td>\n",
       "      <td>NaN</td>\n",
       "      <td>NaN</td>\n",
       "      <td>NaN</td>\n",
       "      <td>NaN</td>\n",
       "      <td>NaN</td>\n",
       "    </tr>\n",
       "  </tbody>\n",
       "</table>\n",
       "<p>5 rows × 370 columns</p>\n",
       "</div>"
      ],
      "text/plain": [
       "   Unnamed: 0  Time from Start to Finish (seconds)     Q1   Q2         Q3  \\\n",
       "0           1                                  910  50-54  Man      India   \n",
       "1           2                                  784  50-54  Man  Indonesia   \n",
       "2           3                                  924  22-24  Man   Pakistan   \n",
       "3           4                                  575  45-49  Man     Mexico   \n",
       "4           5                                  781  45-49  Man      India   \n",
       "\n",
       "                  Q4                       Q5          Q6 Q7_Part_1 Q7_Part_2  \\\n",
       "0  Bachelor’s degree                    Other  5-10 years    Python         R   \n",
       "1    Master’s degree  Program/Project Manager   20+ years       NaN       NaN   \n",
       "2    Master’s degree        Software Engineer   1-3 years    Python       NaN   \n",
       "3    Doctoral degree       Research Scientist   20+ years    Python       NaN   \n",
       "4    Doctoral degree                    Other   < 1 years    Python       NaN   \n",
       "\n",
       "   ... Q38_B_Part_3 Q38_B_Part_4   Q38_B_Part_5 Q38_B_Part_6 Q38_B_Part_7  \\\n",
       "0  ...          NaN          NaN            NaN          NaN          NaN   \n",
       "1  ...          NaN          NaN            NaN          NaN          NaN   \n",
       "2  ...          NaN          NaN   TensorBoard           NaN          NaN   \n",
       "3  ...          NaN          NaN            NaN          NaN          NaN   \n",
       "4  ...          NaN          NaN            NaN          NaN          NaN   \n",
       "\n",
       "  Q38_B_Part_8 Q38_B_Part_9 Q38_B_Part_10 Q38_B_Part_11 Q38_B_OTHER  \n",
       "0          NaN          NaN           NaN           NaN         NaN  \n",
       "1          NaN          NaN           NaN          None         NaN  \n",
       "2          NaN          NaN           NaN           NaN         NaN  \n",
       "3          NaN          NaN           NaN          None         NaN  \n",
       "4          NaN          NaN           NaN           NaN         NaN  \n",
       "\n",
       "[5 rows x 370 columns]"
      ]
     },
     "execution_count": 3,
     "metadata": {},
     "output_type": "execute_result"
    }
   ],
   "source": [
    "df.head() #Explore the dataset "
   ]
  },
  {
   "cell_type": "code",
   "execution_count": 4,
   "id": "afe6ce3a",
   "metadata": {},
   "outputs": [
    {
     "name": "stdout",
     "output_type": "stream",
     "text": [
      "<class 'pandas.core.frame.DataFrame'>\n",
      "RangeIndex: 15391 entries, 0 to 15390\n",
      "Columns: 370 entries, Unnamed: 0 to Q38_B_OTHER\n",
      "dtypes: float64(8), int64(3), object(359)\n",
      "memory usage: 43.4+ MB\n"
     ]
    }
   ],
   "source": [
    "df.info() #explore the dataset \n"
   ]
  },
  {
   "cell_type": "code",
   "execution_count": 5,
   "id": "c09efc26",
   "metadata": {
    "scrolled": true
   },
   "outputs": [
    {
     "data": {
      "text/html": [
       "<div>\n",
       "<style scoped>\n",
       "    .dataframe tbody tr th:only-of-type {\n",
       "        vertical-align: middle;\n",
       "    }\n",
       "\n",
       "    .dataframe tbody tr th {\n",
       "        vertical-align: top;\n",
       "    }\n",
       "\n",
       "    .dataframe thead th {\n",
       "        text-align: right;\n",
       "    }\n",
       "</style>\n",
       "<table border=\"1\" class=\"dataframe\">\n",
       "  <thead>\n",
       "    <tr style=\"text-align: right;\">\n",
       "      <th></th>\n",
       "      <th>Q1</th>\n",
       "      <th>Q2</th>\n",
       "      <th>Q3</th>\n",
       "      <th>Q4</th>\n",
       "      <th>Q5</th>\n",
       "      <th>Q6</th>\n",
       "      <th>Q7_Part_1</th>\n",
       "      <th>Q7_Part_2</th>\n",
       "      <th>Q7_Part_3</th>\n",
       "      <th>Q7_Part_4</th>\n",
       "      <th>Q7_Part_5</th>\n",
       "      <th>Q7_Part_6</th>\n",
       "      <th>Q7_Part_7</th>\n",
       "    </tr>\n",
       "  </thead>\n",
       "  <tbody>\n",
       "    <tr>\n",
       "      <th>0</th>\n",
       "      <td>50-54</td>\n",
       "      <td>Man</td>\n",
       "      <td>India</td>\n",
       "      <td>Bachelor’s degree</td>\n",
       "      <td>Other</td>\n",
       "      <td>5-10 years</td>\n",
       "      <td>Python</td>\n",
       "      <td>R</td>\n",
       "      <td>NaN</td>\n",
       "      <td>NaN</td>\n",
       "      <td>NaN</td>\n",
       "      <td>NaN</td>\n",
       "      <td>NaN</td>\n",
       "    </tr>\n",
       "    <tr>\n",
       "      <th>1</th>\n",
       "      <td>50-54</td>\n",
       "      <td>Man</td>\n",
       "      <td>Indonesia</td>\n",
       "      <td>Master’s degree</td>\n",
       "      <td>Program/Project Manager</td>\n",
       "      <td>20+ years</td>\n",
       "      <td>NaN</td>\n",
       "      <td>NaN</td>\n",
       "      <td>SQL</td>\n",
       "      <td>C</td>\n",
       "      <td>C++</td>\n",
       "      <td>Java</td>\n",
       "      <td>NaN</td>\n",
       "    </tr>\n",
       "    <tr>\n",
       "      <th>2</th>\n",
       "      <td>22-24</td>\n",
       "      <td>Man</td>\n",
       "      <td>Pakistan</td>\n",
       "      <td>Master’s degree</td>\n",
       "      <td>Software Engineer</td>\n",
       "      <td>1-3 years</td>\n",
       "      <td>Python</td>\n",
       "      <td>NaN</td>\n",
       "      <td>NaN</td>\n",
       "      <td>NaN</td>\n",
       "      <td>C++</td>\n",
       "      <td>Java</td>\n",
       "      <td>NaN</td>\n",
       "    </tr>\n",
       "    <tr>\n",
       "      <th>3</th>\n",
       "      <td>45-49</td>\n",
       "      <td>Man</td>\n",
       "      <td>Mexico</td>\n",
       "      <td>Doctoral degree</td>\n",
       "      <td>Research Scientist</td>\n",
       "      <td>20+ years</td>\n",
       "      <td>Python</td>\n",
       "      <td>NaN</td>\n",
       "      <td>NaN</td>\n",
       "      <td>NaN</td>\n",
       "      <td>NaN</td>\n",
       "      <td>NaN</td>\n",
       "      <td>NaN</td>\n",
       "    </tr>\n",
       "    <tr>\n",
       "      <th>4</th>\n",
       "      <td>45-49</td>\n",
       "      <td>Man</td>\n",
       "      <td>India</td>\n",
       "      <td>Doctoral degree</td>\n",
       "      <td>Other</td>\n",
       "      <td>&lt; 1 years</td>\n",
       "      <td>Python</td>\n",
       "      <td>NaN</td>\n",
       "      <td>NaN</td>\n",
       "      <td>C</td>\n",
       "      <td>NaN</td>\n",
       "      <td>NaN</td>\n",
       "      <td>NaN</td>\n",
       "    </tr>\n",
       "  </tbody>\n",
       "</table>\n",
       "</div>"
      ],
      "text/plain": [
       "      Q1   Q2         Q3                 Q4                       Q5  \\\n",
       "0  50-54  Man      India  Bachelor’s degree                    Other   \n",
       "1  50-54  Man  Indonesia    Master’s degree  Program/Project Manager   \n",
       "2  22-24  Man   Pakistan    Master’s degree        Software Engineer   \n",
       "3  45-49  Man     Mexico    Doctoral degree       Research Scientist   \n",
       "4  45-49  Man      India    Doctoral degree                    Other   \n",
       "\n",
       "           Q6 Q7_Part_1 Q7_Part_2 Q7_Part_3 Q7_Part_4 Q7_Part_5 Q7_Part_6  \\\n",
       "0  5-10 years    Python         R       NaN       NaN       NaN       NaN   \n",
       "1   20+ years       NaN       NaN       SQL         C       C++      Java   \n",
       "2   1-3 years    Python       NaN       NaN       NaN       C++      Java   \n",
       "3   20+ years    Python       NaN       NaN       NaN       NaN       NaN   \n",
       "4   < 1 years    Python       NaN       NaN         C       NaN       NaN   \n",
       "\n",
       "  Q7_Part_7  \n",
       "0       NaN  \n",
       "1       NaN  \n",
       "2       NaN  \n",
       "3       NaN  \n",
       "4       NaN  "
      ]
     },
     "execution_count": 5,
     "metadata": {},
     "output_type": "execute_result"
    }
   ],
   "source": [
    "df.iloc[:,2:15].head() #explore the dataset with key columns "
   ]
  },
  {
   "cell_type": "markdown",
   "id": "be193342",
   "metadata": {},
   "source": [
    "# 1. Exploratory Data Analysis "
   ]
  },
  {
   "cell_type": "code",
   "execution_count": 6,
   "id": "bb9925e6",
   "metadata": {},
   "outputs": [
    {
     "data": {
      "text/plain": [
       "array(['Man', 'Woman', 'Prefer not to say', 'Nonbinary',\n",
       "       'Prefer to self-describe'], dtype=object)"
      ]
     },
     "execution_count": 6,
     "metadata": {},
     "output_type": "execute_result"
    }
   ],
   "source": [
    "df.Q2.unique() #Explore all unique values in Q2 column "
   ]
  },
  {
   "cell_type": "code",
   "execution_count": 7,
   "id": "db22ac32",
   "metadata": {},
   "outputs": [
    {
     "data": {
      "text/plain": [
       "array(['Man', 'Woman', 'Other'], dtype=object)"
      ]
     },
     "execution_count": 7,
     "metadata": {},
     "output_type": "execute_result"
    }
   ],
   "source": [
    "#Modify Q2 column to make it simpler for latter analysis\n",
    "df[\"Q2\"] = df[\"Q2\"].map({'Man':'Man', \"Woman\":\"Woman\"}).fillna(\"Other\")\n",
    "\n",
    "df.Q2.unique()"
   ]
  },
  {
   "cell_type": "code",
   "execution_count": 8,
   "id": "9345be53",
   "metadata": {},
   "outputs": [
    {
     "data": {
      "text/plain": [
       "array(['India', 'Indonesia', 'Pakistan', 'Mexico', 'Turkey', 'Australia',\n",
       "       'Nigeria', 'Greece', 'Belgium', 'Egypt', 'Singapore', 'Brazil',\n",
       "       'Poland', 'Iran, Islamic Republic of...', 'Japan', 'Italy',\n",
       "       'United States of America', 'Viet Nam', 'Israel', 'China',\n",
       "       'South Africa', 'Other', 'Bangladesh', 'Russia',\n",
       "       'United Kingdom of Great Britain and Northern Ireland', 'France',\n",
       "       'Tunisia', 'Argentina', 'I do not wish to disclose my location',\n",
       "       'Colombia', 'Sweden', 'Chile', 'Saudi Arabia', 'Spain', 'Morocco',\n",
       "       'Austria', 'Kenya', 'Canada', 'Ireland', 'Portugal',\n",
       "       'Hong Kong (S.A.R.)', 'Ukraine', 'Denmark', 'Germany',\n",
       "       'South Korea', 'Sri Lanka', 'Netherlands', 'Ghana', 'Malaysia',\n",
       "       'Thailand', 'Nepal', 'Taiwan', 'Switzerland', 'Peru',\n",
       "       'United Arab Emirates', 'Philippines', 'Algeria', 'Ethiopia',\n",
       "       'Romania', 'Iraq', 'Ecuador', 'Kazakhstan', 'Uganda', 'Norway',\n",
       "       'Belarus', 'Czech Republic'], dtype=object)"
      ]
     },
     "execution_count": 8,
     "metadata": {},
     "output_type": "execute_result"
    }
   ],
   "source": [
    "# Explore all unique values in Q3 column \n",
    "df.Q3.unique()"
   ]
  },
  {
   "cell_type": "code",
   "execution_count": 9,
   "id": "807bf4d3",
   "metadata": {},
   "outputs": [
    {
     "data": {
      "text/plain": [
       "0              India\n",
       "1          Indonesia\n",
       "2           Pakistan\n",
       "3             Mexico\n",
       "4              India\n",
       "            ...     \n",
       "15386          India\n",
       "15387    South Korea\n",
       "15388          Egypt\n",
       "15389         Sweden\n",
       "15390          India\n",
       "Name: Q3, Length: 15391, dtype: object"
      ]
     },
     "execution_count": 9,
     "metadata": {},
     "output_type": "execute_result"
    }
   ],
   "source": [
    "# Modify the country names to make it more clear and easy to analyze \n",
    "df.Q3 = df ['Q3'].map({'United States of America': \"USA\",\n",
    "                         \"Iran,Islamic Republic of...\" : 'Iran',\n",
    "                         'United Kingdom of Great Britain and Northern Ireland': \"UK\",\n",
    "                         'I do not wish to disclose my location': \"Not disclosed\",\n",
    "                         'United Arab Emirates': \"UAE\",\n",
    "                         'Hong Kong (S.A.R.)' : \"HK\"}).fillna(df.Q3)\n",
    "df.Q3"
   ]
  },
  {
   "cell_type": "code",
   "execution_count": 10,
   "id": "2f452c52",
   "metadata": {},
   "outputs": [
    {
     "data": {
      "text/plain": [
       "array(['Bachelor’s degree', 'Master’s degree', 'Doctoral degree',\n",
       "       'I prefer not to answer', 'No formal education past high school',\n",
       "       'Some college/university study without earning a bachelor’s degree',\n",
       "       'Professional doctorate'], dtype=object)"
      ]
     },
     "execution_count": 10,
     "metadata": {},
     "output_type": "execute_result"
    }
   ],
   "source": [
    "#Explore all unique values of Q4 column \n",
    "df.Q4.unique()"
   ]
  },
  {
   "cell_type": "code",
   "execution_count": 11,
   "id": "de568610",
   "metadata": {},
   "outputs": [
    {
     "data": {
      "text/plain": [
       "0        Bachelor\n",
       "1          Master\n",
       "2          Master\n",
       "3        Doctoral\n",
       "4        Doctoral\n",
       "           ...   \n",
       "15386    Bachelor\n",
       "15387    Bachelor\n",
       "15388    Bachelor\n",
       "15389    Doctoral\n",
       "15390    Bachelor\n",
       "Name: Q4, Length: 15391, dtype: object"
      ]
     },
     "execution_count": 11,
     "metadata": {},
     "output_type": "execute_result"
    }
   ],
   "source": [
    "#Modify Q4 column to make it simpler for latter analysis \n",
    "df[\"Q4\"] = df[\"Q4\"].map({'Bachelor’s degree':\"Bachelor\",\n",
    "                        'Master’s degree' : \"Master\",\n",
    "                        'Doctoral degree': \"Doctoral\",\n",
    "                        'I prefer not to answer': \"Not Disclosed\",\n",
    "                        'Some college/university study without earning a bachelor’s degree':\"College\",\n",
    "                        'No formal education past high school': \"High School\",\n",
    "                        'Professional doctorate': \"Professional Doctorate\"}).fillna(df['Q4'])\n",
    "\n",
    "df.Q4"
   ]
  },
  {
   "cell_type": "code",
   "execution_count": 12,
   "id": "d6216b5e",
   "metadata": {},
   "outputs": [
    {
     "data": {
      "text/plain": [
       "array(['Other', 'Program/Project Manager', 'Software Engineer',\n",
       "       'Research Scientist', 'Data Scientist', 'Data Analyst',\n",
       "       'Machine Learning Engineer', 'Business Analyst', 'Data Engineer',\n",
       "       'Product Manager', 'Statistician', 'DBA/Database Engineer',\n",
       "       'Developer Relations/Advocacy'], dtype=object)"
      ]
     },
     "execution_count": 12,
     "metadata": {},
     "output_type": "execute_result"
    }
   ],
   "source": [
    "#Explore all unique values of Q5 column \n",
    "df.Q5.unique()"
   ]
  },
  {
   "cell_type": "code",
   "execution_count": 13,
   "id": "c7d0dccf",
   "metadata": {},
   "outputs": [
    {
     "data": {
      "text/plain": [
       "array(['5-10 years', '20+ years', '1-3 years', '< 1 years', '10-20 years',\n",
       "       '3-5 years', 'I have never written code'], dtype=object)"
      ]
     },
     "execution_count": 13,
     "metadata": {},
     "output_type": "execute_result"
    }
   ],
   "source": [
    "#Explore all unique values of Q6 column \n",
    "df.Q6.unique()"
   ]
  },
  {
   "cell_type": "code",
   "execution_count": 14,
   "id": "131603b7",
   "metadata": {},
   "outputs": [
    {
     "data": {
      "text/plain": [
       "0           5-10 years\n",
       "1            20+ years\n",
       "2            1-3 years\n",
       "3            20+ years\n",
       "4            < 1 years\n",
       "             ...      \n",
       "15386        1-3 years\n",
       "15387       5-10 years\n",
       "15388        1-3 years\n",
       "15389    No Experience\n",
       "15390    No Experience\n",
       "Name: Q6, Length: 15391, dtype: object"
      ]
     },
     "execution_count": 14,
     "metadata": {},
     "output_type": "execute_result"
    }
   ],
   "source": [
    "#Modify Q6 column \n",
    "df[\"Q6\"] = df[\"Q6\"].map({'I have never written code':\"No Experience\"}).fillna(df[\"Q6\"])\n",
    "df.Q6"
   ]
  },
  {
   "cell_type": "code",
   "execution_count": 15,
   "id": "e1223607",
   "metadata": {},
   "outputs": [
    {
     "data": {
      "text/plain": [
       "array([  30000,   70000,    1000,   40000,   20000,   80000,    3000,\n",
       "         15000,    7500,   25000,    2000,  125000,   10000,    5000,\n",
       "         50000,   60000,    4000,  500000,  250000,  150000,  300000,\n",
       "         90000,  100000,  200000, 1000000])"
      ]
     },
     "execution_count": 15,
     "metadata": {},
     "output_type": "execute_result"
    }
   ],
   "source": [
    "#Explore Q25 column \n",
    "df.Q25.unique()"
   ]
  },
  {
   "cell_type": "code",
   "execution_count": 16,
   "id": "58ac2b44",
   "metadata": {},
   "outputs": [],
   "source": [
    "#Extract key columns to create a new dataframe facilitate latter analysis\n",
    "new_df = df[['Q1','Q2','Q3','Q4','Q5','Q6','Q25']]\n",
    "\n",
    "\n"
   ]
  },
  {
   "cell_type": "code",
   "execution_count": 17,
   "id": "411e80f8",
   "metadata": {},
   "outputs": [
    {
     "data": {
      "text/html": [
       "<div>\n",
       "<style scoped>\n",
       "    .dataframe tbody tr th:only-of-type {\n",
       "        vertical-align: middle;\n",
       "    }\n",
       "\n",
       "    .dataframe tbody tr th {\n",
       "        vertical-align: top;\n",
       "    }\n",
       "\n",
       "    .dataframe thead th {\n",
       "        text-align: right;\n",
       "    }\n",
       "</style>\n",
       "<table border=\"1\" class=\"dataframe\">\n",
       "  <thead>\n",
       "    <tr style=\"text-align: right;\">\n",
       "      <th></th>\n",
       "      <th>Age Group</th>\n",
       "      <th>Gender</th>\n",
       "      <th>Country</th>\n",
       "      <th>Education</th>\n",
       "      <th>Title</th>\n",
       "      <th>Professional Experience</th>\n",
       "      <th>Yearly Compensation</th>\n",
       "    </tr>\n",
       "  </thead>\n",
       "  <tbody>\n",
       "    <tr>\n",
       "      <th>0</th>\n",
       "      <td>50-54</td>\n",
       "      <td>Man</td>\n",
       "      <td>India</td>\n",
       "      <td>Bachelor</td>\n",
       "      <td>Other</td>\n",
       "      <td>5-10 years</td>\n",
       "      <td>30000</td>\n",
       "    </tr>\n",
       "    <tr>\n",
       "      <th>1</th>\n",
       "      <td>50-54</td>\n",
       "      <td>Man</td>\n",
       "      <td>Indonesia</td>\n",
       "      <td>Master</td>\n",
       "      <td>Program/Project Manager</td>\n",
       "      <td>20+ years</td>\n",
       "      <td>70000</td>\n",
       "    </tr>\n",
       "    <tr>\n",
       "      <th>2</th>\n",
       "      <td>22-24</td>\n",
       "      <td>Man</td>\n",
       "      <td>Pakistan</td>\n",
       "      <td>Master</td>\n",
       "      <td>Software Engineer</td>\n",
       "      <td>1-3 years</td>\n",
       "      <td>1000</td>\n",
       "    </tr>\n",
       "    <tr>\n",
       "      <th>3</th>\n",
       "      <td>45-49</td>\n",
       "      <td>Man</td>\n",
       "      <td>Mexico</td>\n",
       "      <td>Doctoral</td>\n",
       "      <td>Research Scientist</td>\n",
       "      <td>20+ years</td>\n",
       "      <td>40000</td>\n",
       "    </tr>\n",
       "    <tr>\n",
       "      <th>4</th>\n",
       "      <td>45-49</td>\n",
       "      <td>Man</td>\n",
       "      <td>India</td>\n",
       "      <td>Doctoral</td>\n",
       "      <td>Other</td>\n",
       "      <td>&lt; 1 years</td>\n",
       "      <td>40000</td>\n",
       "    </tr>\n",
       "  </tbody>\n",
       "</table>\n",
       "</div>"
      ],
      "text/plain": [
       "  Age Group Gender    Country Education                    Title  \\\n",
       "0     50-54    Man      India  Bachelor                    Other   \n",
       "1     50-54    Man  Indonesia    Master  Program/Project Manager   \n",
       "2     22-24    Man   Pakistan    Master        Software Engineer   \n",
       "3     45-49    Man     Mexico  Doctoral       Research Scientist   \n",
       "4     45-49    Man      India  Doctoral                    Other   \n",
       "\n",
       "  Professional Experience  Yearly Compensation  \n",
       "0              5-10 years                30000  \n",
       "1               20+ years                70000  \n",
       "2               1-3 years                 1000  \n",
       "3               20+ years                40000  \n",
       "4               < 1 years                40000  "
      ]
     },
     "execution_count": 17,
     "metadata": {},
     "output_type": "execute_result"
    }
   ],
   "source": [
    "#Rename columns\n",
    "new_df.columns = ['Age Group','Gender','Country','Education','Title', 'Professional Experience','Yearly Compensation']\n",
    "\n",
    "#Explore new_df \n",
    "new_df.head()\n",
    "\n",
    "\n",
    "\n"
   ]
  },
  {
   "cell_type": "code",
   "execution_count": 18,
   "id": "66528e35",
   "metadata": {},
   "outputs": [],
   "source": [
    "#create a pivot table of # of people in data science community in each country by gender\n",
    "gender_by_country = new_df.pivot_table(index = 'Country', columns = 'Gender',values ='Title',\n",
    "aggfunc = 'count', fill_value = 0)\n",
    "\n",
    "#calculate total \n",
    "gender_by_country['Total'] = gender_by_country.apply(np.sum,axis = 1)\n",
    "\n",
    "#Explore created pivot table as described above \n",
    "gender_by_country.head()\n",
    "\n",
    "\n",
    "#Sort country by the number of people working in data science in descending order \n",
    "gender_by_country.sort_values('Total',ascending = False, inplace = True)\n",
    "\n"
   ]
  },
  {
   "cell_type": "markdown",
   "id": "7eabafd8",
   "metadata": {},
   "source": [
    "### Plot Figure 1.1: Number of people working in data science in Top 15 countries by gender "
   ]
  },
  {
   "cell_type": "code",
   "execution_count": 19,
   "id": "988516f1",
   "metadata": {},
   "outputs": [
    {
     "data": {
      "image/png": "[encoded data removed]",
      "text/plain": [
       "<Figure size 1080x432 with 1 Axes>"
      ]
     },
     "metadata": {
      "needs_background": "light"
     },
     "output_type": "display_data"
    }
   ],
   "source": [
    "#Draw Figure 1.1 \n",
    "fig, axis = plt.subplots(figsize = (15, 6))\n",
    "axis.bar(gender_by_country.index[:14],gender_by_country['Man'][:14],color = \"dodgerblue\", label = \"Men\")\n",
    "axis.bar(gender_by_country.index[:14],gender_by_country['Woman'][:14],color = \"hotpink\", label = \"Women\")\n",
    "axis.bar(gender_by_country.index[:14],gender_by_country['Other'][:14], color = \"tan\", label = \"Other\")\n",
    "\n",
    "\n",
    "#Formatting for Figure 1.1\n",
    "plt.xticks(fontsize = 15, rotation = 45)\n",
    "plt.yticks(fontsize = 15)\n",
    "plt.xlabel(\"Top 15 Country\", fontsize = 17)\n",
    "plt.ylabel('# of people', fontsize = 17)\n",
    "axis.legend(fontsize = 17)\n",
    "plt.grid(alpha = 0.4)\n",
    "plt.title(\"Figure 1.1:Number of people working in data science In Top 15 Countries By Gender\", fontsize = 20, pad = 18)\n",
    "plt.tight_layout()\n",
    "plt.show()\n"
   ]
  },
  {
   "cell_type": "code",
   "execution_count": 20,
   "id": "d4247889",
   "metadata": {},
   "outputs": [
    {
     "name": "stdout",
     "output_type": "stream",
     "text": [
      "I explore the number of data scientists in different countries (Top 15 here) and male to female ratio as data scientists in each country.\n",
      "\n",
      "From Figure 1.1, we see that India have most people working in data science community, followed by United States. In each Top 15 country, the number of men in data science are much more than the number of women in that aspect.\n"
     ]
    }
   ],
   "source": [
    "print(\"I explore the number of data scientists in different countries (Top 15 here) and male to female ratio as data scientists in each country.\\n\")\n",
    "\n",
    "\n",
    "print(\"From Figure 1.1, we see that India have most people working in data science community, followed by United States. In each Top 15 country, the number of men in data science are much more than the number of women in that aspect.\" )"
   ]
  },
  {
   "cell_type": "code",
   "execution_count": 21,
   "id": "edf4c576",
   "metadata": {},
   "outputs": [],
   "source": [
    "#Exclude the group of 'Not Disclosed' (Group of 'Not Closed' only occupies 2%, excluding will not affect main results  )\n",
    "df_edu = new_df[new_df['Education'] != 'Not Disclosed']"
   ]
  },
  {
   "cell_type": "code",
   "execution_count": 22,
   "id": "2aa1ad06",
   "metadata": {},
   "outputs": [
    {
     "data": {
      "text/html": [
       "<div>\n",
       "<style scoped>\n",
       "    .dataframe tbody tr th:only-of-type {\n",
       "        vertical-align: middle;\n",
       "    }\n",
       "\n",
       "    .dataframe tbody tr th {\n",
       "        vertical-align: top;\n",
       "    }\n",
       "\n",
       "    .dataframe thead th {\n",
       "        text-align: right;\n",
       "    }\n",
       "</style>\n",
       "<table border=\"1\" class=\"dataframe\">\n",
       "  <thead>\n",
       "    <tr style=\"text-align: right;\">\n",
       "      <th>Gender</th>\n",
       "      <th>Man</th>\n",
       "      <th>Other</th>\n",
       "      <th>Woman</th>\n",
       "    </tr>\n",
       "    <tr>\n",
       "      <th>Education</th>\n",
       "      <th></th>\n",
       "      <th></th>\n",
       "      <th></th>\n",
       "    </tr>\n",
       "  </thead>\n",
       "  <tbody>\n",
       "    <tr>\n",
       "      <th>High School</th>\n",
       "      <td>34975.61</td>\n",
       "      <td>214400.00</td>\n",
       "      <td>26083.33</td>\n",
       "    </tr>\n",
       "    <tr>\n",
       "      <th>College</th>\n",
       "      <td>43999.22</td>\n",
       "      <td>22230.77</td>\n",
       "      <td>31338.54</td>\n",
       "    </tr>\n",
       "    <tr>\n",
       "      <th>Bachelor</th>\n",
       "      <td>37394.30</td>\n",
       "      <td>55381.36</td>\n",
       "      <td>23524.93</td>\n",
       "    </tr>\n",
       "    <tr>\n",
       "      <th>Master</th>\n",
       "      <td>54950.23</td>\n",
       "      <td>82198.28</td>\n",
       "      <td>38769.77</td>\n",
       "    </tr>\n",
       "    <tr>\n",
       "      <th>Doctoral</th>\n",
       "      <td>75505.36</td>\n",
       "      <td>91588.89</td>\n",
       "      <td>46664.16</td>\n",
       "    </tr>\n",
       "    <tr>\n",
       "      <th>Professional Doctorate</th>\n",
       "      <td>68952.91</td>\n",
       "      <td>216333.33</td>\n",
       "      <td>47385.25</td>\n",
       "    </tr>\n",
       "  </tbody>\n",
       "</table>\n",
       "</div>"
      ],
      "text/plain": [
       "Gender                       Man      Other     Woman\n",
       "Education                                            \n",
       "High School             34975.61  214400.00  26083.33\n",
       "College                 43999.22   22230.77  31338.54\n",
       "Bachelor                37394.30   55381.36  23524.93\n",
       "Master                  54950.23   82198.28  38769.77\n",
       "Doctoral                75505.36   91588.89  46664.16\n",
       "Professional Doctorate  68952.91  216333.33  47385.25"
      ]
     },
     "execution_count": 22,
     "metadata": {},
     "output_type": "execute_result"
    }
   ],
   "source": [
    "#create a table of average salary in each education level by gender \n",
    "education_salary = df_edu.pivot_table(index = 'Education', columns = 'Gender',\n",
    "                                      values = 'Yearly Compensation', aggfunc = np.mean, fill_value = 0)\n",
    "\n",
    "row_order = ['High School','College', 'Bachelor','Master', 'Doctoral', 'Professional Doctorate']\n",
    "\n",
    "#reindex\n",
    "education_salary = education_salary.reindex(row_order,axis=0)\n",
    "\n",
    "education_salary = round(education_salary,2) # round it into 2 decimals \n",
    "\n",
    "education_salary\n"
   ]
  },
  {
   "cell_type": "markdown",
   "id": "bd0fabbe",
   "metadata": {},
   "source": [
    "### Plot Figure 1.2: Average Salary of Data Scientists in Different Education Levels By Gender (Men vs Women)"
   ]
  },
  {
   "cell_type": "code",
   "execution_count": 23,
   "id": "4b41eb3d",
   "metadata": {},
   "outputs": [
    {
     "data": {
      "image/png": "[encoded data removed]",
      "text/plain": [
       "<Figure size 1080x432 with 1 Axes>"
      ]
     },
     "metadata": {
      "needs_background": "light"
     },
     "output_type": "display_data"
    }
   ],
   "source": [
    "# Draw Figure 1.2 \n",
    "# Since we are studying men vs women and the 'Other' Group only has few data points, the 'Other' group can be excluded \n",
    "# Here we assume doctoral and professional doctoral are different education levels \n",
    "fig, axis = plt.subplots(figsize = (15, 6))\n",
    "axis.plot(education_salary.index,education_salary['Man'],color = \"dodgerblue\", label = \"Men's Avg Salary\")\n",
    "axis.plot(education_salary.index,education_salary['Woman'],color = \"hotpink\", label = \"Women's Avg Salary\")\n",
    "\n",
    "\n",
    "# Formatting for Figure 1.2 \n",
    "plt.xticks(fontsize = 15)\n",
    "plt.yticks(fontsize = 15)\n",
    "axis.set_xlabel(\"Education Level\", fontsize = 17)\n",
    "axis.set_ylabel('Average Salary', fontsize = 17)\n",
    "axis.legend(fontsize = 15, loc = 2)\n",
    "axis.legend(fontsize = 15)\n",
    "axis.grid(alpha = 0.4)\n",
    "plt.title(\"Figure 1.2: Average Salary of Data Scientists In Different Education Levels By Gender\", fontsize = 20, pad = 18)\n",
    "plt.tight_layout()\n",
    "plt.show()"
   ]
  },
  {
   "cell_type": "code",
   "execution_count": 24,
   "id": "97f3a15e",
   "metadata": {},
   "outputs": [
    {
     "name": "stdout",
     "output_type": "stream",
     "text": [
      "I explore the relationship between education level and salary by gender.\n",
      "\n",
      "From Figure 1.2, for people in different education levels, doctorals’ mean salary is higher than masters’ mean salary, masters’ mean salary is higher than bachelors’ mean salary (Focusing on above three groups since above three occupies 90% data).\n",
      "\n",
      "Furthermore, within the same education level, men’s mean salary is higher than women’s mean salary. \n"
     ]
    }
   ],
   "source": [
    "print(\"I explore the relationship between education level and salary by gender.\\n\")\n",
    "print(\"From Figure 1.2, for people in different education levels, doctorals’ mean salary is higher than masters’ mean salary, masters’ mean salary is higher than bachelors’ mean salary (Focusing on above three groups since above three occupies 90% data).\\n\") \n",
    "print(\"Furthermore, within the same education level, men’s mean salary is higher than women’s mean salary. \")\n"
   ]
  },
  {
   "cell_type": "code",
   "execution_count": 25,
   "id": "c31c98a7",
   "metadata": {},
   "outputs": [
    {
     "data": {
      "text/plain": [
       "Master                    6799\n",
       "Bachelor                  4777\n",
       "Doctoral                  2217\n",
       "College                    746\n",
       "Professional Doctorate     290\n",
       "High School                228\n",
       "Name: Education, dtype: int64"
      ]
     },
     "execution_count": 25,
     "metadata": {},
     "output_type": "execute_result"
    }
   ],
   "source": [
    "#Explore each level's value_counts in the education column\n",
    "#Since # of Bachelor + Master + Doctoral occupies 90% of data, we can focus on these three groups to conduct main analysis \n",
    "#=fOCUS on analyzing Bechelor+Master+doctoral these three large groups will give us more direct and meaningful analysis results\n",
    "df_edu['Education'].value_counts()"
   ]
  },
  {
   "cell_type": "code",
   "execution_count": 26,
   "id": "453b8116",
   "metadata": {},
   "outputs": [
    {
     "data": {
      "text/html": [
       "<div>\n",
       "<style scoped>\n",
       "    .dataframe tbody tr th:only-of-type {\n",
       "        vertical-align: middle;\n",
       "    }\n",
       "\n",
       "    .dataframe tbody tr th {\n",
       "        vertical-align: top;\n",
       "    }\n",
       "\n",
       "    .dataframe thead th {\n",
       "        text-align: right;\n",
       "    }\n",
       "</style>\n",
       "<table border=\"1\" class=\"dataframe\">\n",
       "  <thead>\n",
       "    <tr style=\"text-align: right;\">\n",
       "      <th>Gender</th>\n",
       "      <th>Man</th>\n",
       "      <th>Other</th>\n",
       "      <th>Woman</th>\n",
       "    </tr>\n",
       "    <tr>\n",
       "      <th>Age Group</th>\n",
       "      <th></th>\n",
       "      <th></th>\n",
       "      <th></th>\n",
       "    </tr>\n",
       "  </thead>\n",
       "  <tbody>\n",
       "    <tr>\n",
       "      <th>18-21</th>\n",
       "      <td>18570.74</td>\n",
       "      <td>20687.50</td>\n",
       "      <td>4211.23</td>\n",
       "    </tr>\n",
       "    <tr>\n",
       "      <th>22-24</th>\n",
       "      <td>20501.80</td>\n",
       "      <td>41882.35</td>\n",
       "      <td>15560.91</td>\n",
       "    </tr>\n",
       "    <tr>\n",
       "      <th>25-29</th>\n",
       "      <td>29552.17</td>\n",
       "      <td>69221.15</td>\n",
       "      <td>24333.88</td>\n",
       "    </tr>\n",
       "    <tr>\n",
       "      <th>30-34</th>\n",
       "      <td>49040.06</td>\n",
       "      <td>82434.21</td>\n",
       "      <td>38696.78</td>\n",
       "    </tr>\n",
       "    <tr>\n",
       "      <th>35-39</th>\n",
       "      <td>61222.60</td>\n",
       "      <td>83700.00</td>\n",
       "      <td>46903.96</td>\n",
       "    </tr>\n",
       "    <tr>\n",
       "      <th>40-44</th>\n",
       "      <td>68662.74</td>\n",
       "      <td>113782.61</td>\n",
       "      <td>58293.99</td>\n",
       "    </tr>\n",
       "    <tr>\n",
       "      <th>45-49</th>\n",
       "      <td>86640.45</td>\n",
       "      <td>109500.00</td>\n",
       "      <td>48517.86</td>\n",
       "    </tr>\n",
       "    <tr>\n",
       "      <th>50-54</th>\n",
       "      <td>84874.81</td>\n",
       "      <td>43833.33</td>\n",
       "      <td>70841.58</td>\n",
       "    </tr>\n",
       "    <tr>\n",
       "      <th>55-59</th>\n",
       "      <td>98720.18</td>\n",
       "      <td>152800.00</td>\n",
       "      <td>76327.59</td>\n",
       "    </tr>\n",
       "    <tr>\n",
       "      <th>60-69</th>\n",
       "      <td>87429.09</td>\n",
       "      <td>162818.18</td>\n",
       "      <td>56814.81</td>\n",
       "    </tr>\n",
       "    <tr>\n",
       "      <th>70+</th>\n",
       "      <td>92761.63</td>\n",
       "      <td>250333.33</td>\n",
       "      <td>53200.00</td>\n",
       "    </tr>\n",
       "  </tbody>\n",
       "</table>\n",
       "</div>"
      ],
      "text/plain": [
       "Gender          Man      Other     Woman\n",
       "Age Group                               \n",
       "18-21      18570.74   20687.50   4211.23\n",
       "22-24      20501.80   41882.35  15560.91\n",
       "25-29      29552.17   69221.15  24333.88\n",
       "30-34      49040.06   82434.21  38696.78\n",
       "35-39      61222.60   83700.00  46903.96\n",
       "40-44      68662.74  113782.61  58293.99\n",
       "45-49      86640.45  109500.00  48517.86\n",
       "50-54      84874.81   43833.33  70841.58\n",
       "55-59      98720.18  152800.00  76327.59\n",
       "60-69      87429.09  162818.18  56814.81\n",
       "70+        92761.63  250333.33  53200.00"
      ]
     },
     "execution_count": 26,
     "metadata": {},
     "output_type": "execute_result"
    }
   ],
   "source": [
    "#Create a table of average salary in each age group by gender \n",
    "age_salary = new_df.pivot_table(index = \"Age Group\", columns = 'Gender', values = \"Yearly Compensation\", aggfunc = np.mean, fill_value = 0)\n",
    "age_salary = round (age_salary,2)\n",
    "age_salary"
   ]
  },
  {
   "cell_type": "markdown",
   "id": "e822dabc",
   "metadata": {},
   "source": [
    "### Plot Figure 1.3: Average Salary Of Data Scientists In Age Groups By Gender (Men vs Women)"
   ]
  },
  {
   "cell_type": "code",
   "execution_count": 27,
   "id": "dead5e15",
   "metadata": {
    "scrolled": true
   },
   "outputs": [
    {
     "data": {
      "image/png": "[encoded data removed]",
      "text/plain": [
       "<Figure size 1080x360 with 1 Axes>"
      ]
     },
     "metadata": {
      "needs_background": "light"
     },
     "output_type": "display_data"
    }
   ],
   "source": [
    "# Draw Figure 1.3 \n",
    "# Since we are studying men vs women and the 'Other' Group only has few data points, the 'Other' group can be excluded in latter analysis \n",
    "fig, axis = plt.subplots(figsize = (15,5))\n",
    "axis.plot(age_salary.index, age_salary['Man'], color = 'dodgerblue', alpha = 1, label = 'Men')\n",
    "axis.plot(age_salary.index, age_salary['Woman'],color = 'hotpink', alpha = 1, label = 'Women')\n",
    "\n",
    "#Formatting for Figure 1.3 \n",
    "axis.legend(fontsize = 17)\n",
    "axis.set_xlabel('Age Group', fontsize =17)\n",
    "axis.set_ylabel('Average Salary', fontsize =17)\n",
    "axis.grid(alpha = 0.4)\n",
    "plt.xticks(fontsize = 15)\n",
    "plt.yticks(fontsize = 15)\n",
    "plt.title('Figure 1.3: Average Salary Of Data Scientists In Age Groups By Gender', fontsize = 20, pad= 18)\n",
    "plt.tight_layout()\n",
    "plt.show()"
   ]
  },
  {
   "cell_type": "code",
   "execution_count": 28,
   "id": "1c98ef8c",
   "metadata": {},
   "outputs": [
    {
     "name": "stdout",
     "output_type": "stream",
     "text": [
      "I explore the relationship between age group and salary by gender.\n",
      "\n",
      "From Figure 1.3, within the same age group, men’s mean salary is higher than women’s mean salary.  In the age group of 45-49, the wage gap between men and women is largest. Both of women and men’s mean salary shows an upward trend overall with the age increase until 55 - 59.\n"
     ]
    }
   ],
   "source": [
    "print(\"I explore the relationship between age group and salary by gender.\\n\")\n",
    "print(\"From Figure 1.3, within the same age group, men’s mean salary is higher than women’s mean salary.  In the age group of 45-49, the wage gap between men and women is largest. Both of women and men’s mean salary shows an upward trend overall with the age increase until 55 - 59.\")\n"
   ]
  },
  {
   "cell_type": "markdown",
   "id": "539dc835",
   "metadata": {},
   "source": [
    "# 2. Estimating the difference between average salary (Q25) of men vs women "
   ]
  },
  {
   "cell_type": "code",
   "execution_count": 29,
   "id": "11526ab9",
   "metadata": {},
   "outputs": [],
   "source": [
    "#extract all man oberservation into one series\n",
    "male_col = new_df[new_df[\"Gender\"] == \"Man\"]\n",
    "#male_col"
   ]
  },
  {
   "cell_type": "code",
   "execution_count": 30,
   "id": "363ba66a",
   "metadata": {},
   "outputs": [],
   "source": [
    "#Extract all woman observations into one series\n",
    "female_col = new_df[new_df[\"Gender\"]== \"Woman\"]\n",
    "#female_col"
   ]
  },
  {
   "cell_type": "code",
   "execution_count": 31,
   "id": "547e39d4",
   "metadata": {},
   "outputs": [
    {
     "data": {
      "text/plain": [
       "Age Group                  0\n",
       "Gender                     0\n",
       "Country                    0\n",
       "Education                  0\n",
       "Title                      0\n",
       "Professional Experience    0\n",
       "Yearly Compensation        0\n",
       "dtype: int64"
      ]
     },
     "execution_count": 31,
     "metadata": {},
     "output_type": "execute_result"
    }
   ],
   "source": [
    "#Check if exists null values \n",
    "male_col.isnull().sum() #no null values "
   ]
  },
  {
   "cell_type": "code",
   "execution_count": 32,
   "id": "03d1fe8a",
   "metadata": {},
   "outputs": [
    {
     "data": {
      "text/plain": [
       "Age Group                  0\n",
       "Gender                     0\n",
       "Country                    0\n",
       "Education                  0\n",
       "Title                      0\n",
       "Professional Experience    0\n",
       "Yearly Compensation        0\n",
       "dtype: int64"
      ]
     },
     "execution_count": 32,
     "metadata": {},
     "output_type": "execute_result"
    }
   ],
   "source": [
    "female_col.isnull().sum() #no null values"
   ]
  },
  {
   "cell_type": "markdown",
   "id": "4ac78b63",
   "metadata": {},
   "source": [
    "### 2.a: Compute and report descriptive statistics for each group (men vs women)"
   ]
  },
  {
   "cell_type": "code",
   "execution_count": 33,
   "id": "ca2f9234",
   "metadata": {},
   "outputs": [
    {
     "data": {
      "text/html": [
       "<div>\n",
       "<style scoped>\n",
       "    .dataframe tbody tr th:only-of-type {\n",
       "        vertical-align: middle;\n",
       "    }\n",
       "\n",
       "    .dataframe tbody tr th {\n",
       "        vertical-align: top;\n",
       "    }\n",
       "\n",
       "    .dataframe thead th {\n",
       "        text-align: right;\n",
       "    }\n",
       "</style>\n",
       "<table border=\"1\" class=\"dataframe\">\n",
       "  <thead>\n",
       "    <tr style=\"text-align: right;\">\n",
       "      <th></th>\n",
       "      <th>count</th>\n",
       "      <th>mean</th>\n",
       "      <th>std</th>\n",
       "      <th>min</th>\n",
       "      <th>25%</th>\n",
       "      <th>50%</th>\n",
       "      <th>75%</th>\n",
       "      <th>max</th>\n",
       "    </tr>\n",
       "  </thead>\n",
       "  <tbody>\n",
       "    <tr>\n",
       "      <th>Men</th>\n",
       "      <td>12642.0</td>\n",
       "      <td>51193.600696</td>\n",
       "      <td>99979.274378</td>\n",
       "      <td>1000.0</td>\n",
       "      <td>2000.0</td>\n",
       "      <td>20000.0</td>\n",
       "      <td>60000.0</td>\n",
       "      <td>1000000.0</td>\n",
       "    </tr>\n",
       "    <tr>\n",
       "      <th>Women</th>\n",
       "      <td>2482.0</td>\n",
       "      <td>34816.881547</td>\n",
       "      <td>72017.347888</td>\n",
       "      <td>1000.0</td>\n",
       "      <td>1000.0</td>\n",
       "      <td>7500.0</td>\n",
       "      <td>50000.0</td>\n",
       "      <td>1000000.0</td>\n",
       "    </tr>\n",
       "  </tbody>\n",
       "</table>\n",
       "</div>"
      ],
      "text/plain": [
       "         count          mean           std     min     25%      50%      75%  \\\n",
       "Men    12642.0  51193.600696  99979.274378  1000.0  2000.0  20000.0  60000.0   \n",
       "Women   2482.0  34816.881547  72017.347888  1000.0  1000.0   7500.0  50000.0   \n",
       "\n",
       "             max  \n",
       "Men    1000000.0  \n",
       "Women  1000000.0  "
      ]
     },
     "execution_count": 33,
     "metadata": {},
     "output_type": "execute_result"
    }
   ],
   "source": [
    "#2.a: Compute and report descriptive statistics for each group (men vs women)\n",
    "Descriptive_statistics = pd.DataFrame([male_col['Yearly Compensation'].describe().values, \n",
    "                                      female_col['Yearly Compensation'].describe().values],\n",
    "                                     columns = male_col[\"Yearly Compensation\"].describe().index,\n",
    "                                     index = ['Men', 'Women'])\n",
    "Descriptive_statistics "
   ]
  },
  {
   "cell_type": "code",
   "execution_count": 34,
   "id": "1e7a00c2",
   "metadata": {},
   "outputs": [
    {
     "name": "stdout",
     "output_type": "stream",
     "text": [
      "In original sample, Men's mean salary: $51193.6 with the standard deviation: 99979.3; Women's mean salary: $34816.88 with the standard deviation: 72017.3.\n"
     ]
    }
   ],
   "source": [
    "print(\"In original sample, Men's mean salary: $51193.6 with the standard deviation: 99979.3; Women's mean salary: $34816.88 with the standard deviation: 72017.3.\")"
   ]
  },
  {
   "cell_type": "markdown",
   "id": "5cb54285",
   "metadata": {},
   "source": [
    "### 2.b If suitable, perform a two sample t-test with a 0.05 threhold. "
   ]
  },
  {
   "cell_type": "code",
   "execution_count": 35,
   "id": "316be141",
   "metadata": {},
   "outputs": [
    {
     "data": {
      "image/png": "[encoded data removed]",
      "text/plain": [
       "<Figure size 1080x432 with 2 Axes>"
      ]
     },
     "metadata": {
      "needs_background": "light"
     },
     "output_type": "display_data"
    },
    {
     "name": "stdout",
     "output_type": "stream",
     "text": [
      "To check normality assumption for two orginal samples ae satisfied, we draw the Figure 2.1(a) and Figure 2.1(b).\n",
      "\n",
      "As above histograms shown, both original samples of men's salary and women's salary do not follow normal distributions.\n",
      "\n",
      "Since the normality assumption is violated, not all assumptions of t-test are satisfied. We cannot perform t-test on these two original samples.\n"
     ]
    }
   ],
   "source": [
    "#Before performing the t-test, check whether assumptions are satisfied \n",
    "# men's salary and women'salary are independent samples - > independence assumption satisfied \n",
    "#Check normality assumption \n",
    "#Draw distribution of men's salary and distribution of women' salary in orginal sample \n",
    "fig,(ax1, ax2) = plt.subplots(1,2, figsize=(15,6),sharey = True)\n",
    "ax1.hist(male_col['Yearly Compensation'],bins=np.arange(0,500001,25000), color =\"dodgerblue\", alpha = 0.7, label = \"Men\")\n",
    "ax2.hist(female_col['Yearly Compensation'],bins=np.arange(0,500001,25000), color = \"hotpink\", alpha = 0.7, label = \"Women\")\n",
    "\n",
    "\n",
    "#Formatting \n",
    "ax1.set_title(\"Figure 2.1 (a): Distribution Of Men's Salary In Original Sample\", fontsize = 15)\n",
    "ax2.set_title(\"Figure 2.1 (b): Distribution Of Women's Salary In Original Sample\", fontsize = 15)\n",
    "ax1.set_ylabel(\"Frequency\", fontsize = 15)\n",
    "ax1.set_xlabel(\"Salary\", fontsize = 15)\n",
    "ax2.set_xlabel('Salary', fontsize = 15)\n",
    "ax1.grid(alpha = 0.4)\n",
    "ax2.grid(alpha = 0.4)\n",
    "plt.tight_layout()\n",
    "plt.show()\n",
    "\n",
    "print(\"To check normality assumption for two orginal samples ae satisfied, we draw the Figure 2.1(a) and Figure 2.1(b).\\n\")\n",
    "print(\"As above histograms shown, both original samples of men's salary and women's salary do not follow normal distributions.\\n\") \n",
    "print(\"Since the normality assumption is violated, not all assumptions of t-test are satisfied. We cannot perform t-test on these two original samples.\")"
   ]
  },
  {
   "cell_type": "markdown",
   "id": "7e1b9c5c",
   "metadata": {},
   "source": [
    "### 2.c Bootstrap data for comparing the mean of salary (Q25) for two groups (women vs men)"
   ]
  },
  {
   "cell_type": "code",
   "execution_count": 36,
   "id": "e9ce5a3f",
   "metadata": {},
   "outputs": [],
   "source": [
    "#2.c Bootstrap data for comparing the mean of salary (Q25) for two groups (women vs men)\n",
    "\n",
    "#self define a bootstrap function \n",
    "def bootstrap(col,iterations):\n",
    "    mean_list = []\n",
    "    \n",
    "    for i in range(iterations):\n",
    "        avg = np.mean(resample(col)) #resample with replacement and then calculate mean\n",
    "        mean_list.append(avg) #append each mean\n",
    "        \n",
    "    return np.array(mean_list)"
   ]
  },
  {
   "cell_type": "code",
   "execution_count": 37,
   "id": "48d6f423",
   "metadata": {},
   "outputs": [
    {
     "name": "stdout",
     "output_type": "stream",
     "text": [
      "As seen in 2.b, both original samples for men and women do not follow normal distribution and not all assumptions for t-test are satisfied, we cannot perform t-test on these two original samples.\n",
      "\n",
      "Thus, we introduce bootstrapping this distribution-independent tool to further work on this so that we can draw inferences or estimate relavant statistics on relevant samples.\n"
     ]
    }
   ],
   "source": [
    "print(\"As seen in 2.b, both original samples for men and women do not follow normal distribution and not all assumptions for t-test are satisfied, we cannot perform t-test on these two original samples.\\n\")\n",
    "print(\"Thus, we introduce bootstrapping this distribution-independent tool to further work on this so that we can draw inferences or estimate relavant statistics on relevant samples.\")"
   ]
  },
  {
   "cell_type": "code",
   "execution_count": 38,
   "id": "3aa13a63",
   "metadata": {},
   "outputs": [],
   "source": [
    "#do bootstrap for men and women's salary with 1000 replications \n",
    "male_bootstrap = bootstrap(male_col['Yearly Compensation'], 1000)\n",
    "female_bootstrap = bootstrap(female_col['Yearly Compensation'], 1000)\n"
   ]
  },
  {
   "cell_type": "code",
   "execution_count": 39,
   "id": "5d778665",
   "metadata": {},
   "outputs": [
    {
     "name": "stdout",
     "output_type": "stream",
     "text": [
      "To study the difference in average salary among men vs women, we choose the variable salary (Q25) and gender with two levels (women vs men).\n",
      "\n",
      "Then we draw the bootstrapped distribution for men's mean salary and women's mean salary.\n"
     ]
    }
   ],
   "source": [
    "print(\"To study the difference in average salary among men vs women, we choose the variable salary (Q25) and gender with two levels (women vs men).\\n\")\n",
    "print(\"Then we draw the bootstrapped distribution for men's mean salary and women's mean salary.\")"
   ]
  },
  {
   "cell_type": "code",
   "execution_count": 40,
   "id": "83ad8785",
   "metadata": {
    "scrolled": true
   },
   "outputs": [
    {
     "data": {
      "image/png": "[encoded data removed]",
      "text/plain": [
       "<Figure size 1080x432 with 2 Axes>"
      ]
     },
     "metadata": {
      "needs_background": "light"
     },
     "output_type": "display_data"
    }
   ],
   "source": [
    "#plot 2 * 1 subplots \n",
    "fig,(ax1,ax2) = plt.subplots (1,2, figsize = (15,6),sharey = True)\n",
    "\n",
    "#plot bootstrapped distribution for women and men's salary\n",
    "ax1.hist(male_bootstrap, bins = 15, color =\"dodgerblue\", alpha = 0.7, label = \"Men\")\n",
    "ax1.hist(female_bootstrap, bins = 15, color = \"hotpink\", alpha = 0.7, label = \"Women\")\n",
    "\n",
    "\n",
    "#Formatting for plot of bootstrapped distribution\n",
    "ax1.set_xlabel(\"Mean Salary\", fontsize =14)\n",
    "ax1.set_ylabel(\"Frequency\", fontsize = 14)\n",
    "ax1.set_title(\"Figure 2.2(a): Bootstrapped Distribution Of Mean Salary\", fontsize = 15)\n",
    "ax1.legend(fontsize = 12, loc =2)\n",
    "ax1.grid()\n",
    "\n",
    "\n",
    "#plot bootstrapped distriution of difference in mean salary for men and women \n",
    "ax2.hist(male_bootstrap - female_bootstrap, bins = 20, color = \"teal\", alpha = 0.7, label = \"Men-Women\")\n",
    "\n",
    "#Formatting\n",
    "ax2.set_xlabel('Difference In Mean Salary Between Men And Women',fontsize =14)\n",
    "ax2.set_title(\"Figure 2.2(b): Bootstrapped Distribution of Difference in Mean Salary\", fontsize = 15)\n",
    "ax2.legend(fontsize= 12)\n",
    "ax2.grid()\n",
    "plt.tight_layout()\n",
    "plt.show()"
   ]
  },
  {
   "cell_type": "code",
   "execution_count": 41,
   "id": "8c3a3172",
   "metadata": {},
   "outputs": [
    {
     "name": "stdout",
     "output_type": "stream",
     "text": [
      "As above Figure 2.2 shown, both bootsrappped distributions of mean salary for men and women follow normal distributions.\n",
      "\n",
      "The bootstrapped distribution of difference in mean salary between men and women also follow normal distribution\n"
     ]
    }
   ],
   "source": [
    "print(\"As above Figure 2.2 shown, both bootsrappped distributions of mean salary for men and women follow normal distributions.\\n\")\n",
    "print(\"The bootstrapped distribution of difference in mean salary between men and women also follow normal distribution\")"
   ]
  },
  {
   "cell_type": "markdown",
   "id": "9f5a0e21",
   "metadata": {},
   "source": [
    "### 2.d If suitable, perform a two-sample t-test with a 0.05 threshold on the bootstrapped data"
   ]
  },
  {
   "cell_type": "code",
   "execution_count": 42,
   "id": "47bc58ef",
   "metadata": {},
   "outputs": [
    {
     "name": "stdout",
     "output_type": "stream",
     "text": [
      "As previously illustrated, bootstrapped distribution of women' mean salary and bootstrapped distribution of men's mean salary follow normal distribution.\n",
      "\n",
      "Thus, the normality assumption is satisfied.\n",
      "\n",
      "The boostrapped sample for men's mean salary and bootstrapped sample for women's mean salary are also independent.\n",
      "\n",
      "Thus, the independence assumption is satisfied.\n",
      "\n",
      "All necessary assumptions for t-test are satisfied and we have iid distributions, we can perform two-sample t-test on bootstrapped data.\n"
     ]
    }
   ],
   "source": [
    "print(\"As previously illustrated, bootstrapped distribution of women' mean salary and bootstrapped distribution of men's mean salary follow normal distribution.\\n\")\n",
    "print(\"Thus, the normality assumption is satisfied.\\n\")\n",
    "print(\"The boostrapped sample for men's mean salary and bootstrapped sample for women's mean salary are also independent.\\n\")\n",
    "print(\"Thus, the independence assumption is satisfied.\\n\")\n",
    "print(\"All necessary assumptions for t-test are satisfied and we have iid distributions, we can perform two-sample t-test on bootstrapped data.\")"
   ]
  },
  {
   "cell_type": "code",
   "execution_count": 43,
   "id": "9bb529de",
   "metadata": {},
   "outputs": [
    {
     "name": "stdout",
     "output_type": "stream",
     "text": [
      "Threshold (alpha) = 0.05\n",
      "t-value:  307.9660258715997\n",
      "p-value:  0.0 \n",
      "\n",
      "Here the woman and man are two levels of variable gender, we choose to perform two-sample t-test to study whether mean salary of women and men are same.\n",
      "\n",
      "Given the 0.05 threshold, for this hypothesis testing, the null hypothesis is that men_mean_salary = women_mean_salary. The alternative hypothesis: men_mean_salary != women_mean_salary.\n",
      "\n",
      "For this two-sample t-test, the T-statistic is 307.9660 and P value is 0.0000.\n",
      "\n",
      "Since P value < 0.05, we reject the null hypothesis that men_mean_salary = women_mean_salary.\n"
     ]
    }
   ],
   "source": [
    "#Perform a two-sample t-test with a 0.05 threshold on the bootstrapped data \n",
    "tstas, Pval1 = stats.ttest_ind(male_bootstrap,female_bootstrap, equal_var = False)\n",
    "\n",
    "print(\"Threshold (alpha) = 0.05\")\n",
    "print(\"t-value: \", tstas)\n",
    "print(\"p-value: \", Pval1, \"\\n\")\n",
    "\n",
    "print(\"Here the woman and man are two levels of variable gender, we choose to perform two-sample t-test to study whether mean salary of women and men are same.\\n\")\n",
    "print(\"Given the 0.05 threshold, for this hypothesis testing, the null hypothesis is that men_mean_salary = women_mean_salary. The alternative hypothesis: men_mean_salary != women_mean_salary.\\n\")\n",
    "print(\"For this two-sample t-test, the T-statistic is {0:.4f} and P value is {1:.4f}.\\n\".format(tstas, Pval1))\n",
    "print(\"Since P value < 0.05, we reject the null hypothesis that men_mean_salary = women_mean_salary.\")\n"
   ]
  },
  {
   "cell_type": "code",
   "execution_count": 44,
   "id": "0c55f45e",
   "metadata": {},
   "outputs": [
    {
     "name": "stdout",
     "output_type": "stream",
     "text": [
      "According to the results of performing t-test on bootstrapped data in 2.d, we can see that the P value for t-test is 0.0.\n",
      " \n",
      "The null hypothesis for this t-test is that there is no difference in average salary between men and women.(mean_salary_men = mean_salary_women)\n",
      "\n",
      "Give a 0.05 threshold, since P value < 0.05, we reject the null hypothesis.\n",
      "\n",
      "We conclude that the difference in average salary between men and women is statistically significant.\n"
     ]
    }
   ],
   "source": [
    "#2.e Comment on the findings \n",
    "\n",
    "print(\"According to the results of performing t-test on bootstrapped data in 2.d, we can see that the P value for t-test is 0.0.\\n \")\n",
    "print(\"The null hypothesis for this t-test is that there is no difference in average salary between men and women.(mean_salary_men = mean_salary_women)\\n\")\n",
    "print(\"Give a 0.05 threshold, since P value < 0.05, we reject the null hypothesis.\\n\")\n",
    "print(\"We conclude that the difference in average salary between men and women is statistically significant.\")\n",
    "\n",
    "\n",
    "\n",
    "\n",
    "\n",
    "      \n",
    "      \n",
    "\n",
    "\n"
   ]
  },
  {
   "cell_type": "markdown",
   "id": "0842c447",
   "metadata": {},
   "source": [
    "# 3. Estimate the difference in average salary among bachelor, master and doctoral"
   ]
  },
  {
   "cell_type": "code",
   "execution_count": 45,
   "id": "bf3fcb70",
   "metadata": {},
   "outputs": [],
   "source": [
    "#extract bachelor observations\n",
    "bachelor_col = new_df[new_df['Education'] == \"Bachelor\"]\n",
    "\n",
    "#extract master observations\n",
    "master_col = new_df[new_df['Education'] == \"Master\"]\n",
    "\n",
    "#extract doctoral observations \n",
    "doctoral_col = new_df[new_df['Education'] == \"Doctoral\"]\n",
    "\n"
   ]
  },
  {
   "cell_type": "code",
   "execution_count": 46,
   "id": "1d195675",
   "metadata": {},
   "outputs": [
    {
     "data": {
      "text/plain": [
       "Age Group                  0\n",
       "Gender                     0\n",
       "Country                    0\n",
       "Education                  0\n",
       "Title                      0\n",
       "Professional Experience    0\n",
       "Yearly Compensation        0\n",
       "dtype: int64"
      ]
     },
     "execution_count": 46,
     "metadata": {},
     "output_type": "execute_result"
    }
   ],
   "source": [
    "#Check if has null values \n",
    "bachelor_col.isnull().sum() #no null values "
   ]
  },
  {
   "cell_type": "code",
   "execution_count": 47,
   "id": "4a8ad62b",
   "metadata": {},
   "outputs": [
    {
     "data": {
      "text/plain": [
       "Age Group                  0\n",
       "Gender                     0\n",
       "Country                    0\n",
       "Education                  0\n",
       "Title                      0\n",
       "Professional Experience    0\n",
       "Yearly Compensation        0\n",
       "dtype: int64"
      ]
     },
     "execution_count": 47,
     "metadata": {},
     "output_type": "execute_result"
    }
   ],
   "source": [
    "master_col.isnull().sum() #no null values "
   ]
  },
  {
   "cell_type": "code",
   "execution_count": 48,
   "id": "e349f5d8",
   "metadata": {},
   "outputs": [
    {
     "data": {
      "text/plain": [
       "Age Group                  0\n",
       "Gender                     0\n",
       "Country                    0\n",
       "Education                  0\n",
       "Title                      0\n",
       "Professional Experience    0\n",
       "Yearly Compensation        0\n",
       "dtype: int64"
      ]
     },
     "execution_count": 48,
     "metadata": {},
     "output_type": "execute_result"
    }
   ],
   "source": [
    "doctoral_col.isnull().sum() #no null values "
   ]
  },
  {
   "cell_type": "markdown",
   "id": "81d81ca0",
   "metadata": {},
   "source": [
    "### 3.a Compute and report descriptive statistics for bachelor, master and doctoral "
   ]
  },
  {
   "cell_type": "code",
   "execution_count": 49,
   "id": "6378db0d",
   "metadata": {},
   "outputs": [
    {
     "data": {
      "text/html": [
       "<div>\n",
       "<style scoped>\n",
       "    .dataframe tbody tr th:only-of-type {\n",
       "        vertical-align: middle;\n",
       "    }\n",
       "\n",
       "    .dataframe tbody tr th {\n",
       "        vertical-align: top;\n",
       "    }\n",
       "\n",
       "    .dataframe thead th {\n",
       "        text-align: right;\n",
       "    }\n",
       "</style>\n",
       "<table border=\"1\" class=\"dataframe\">\n",
       "  <thead>\n",
       "    <tr style=\"text-align: right;\">\n",
       "      <th></th>\n",
       "      <th>count</th>\n",
       "      <th>mean</th>\n",
       "      <th>std</th>\n",
       "      <th>min</th>\n",
       "      <th>25%</th>\n",
       "      <th>50%</th>\n",
       "      <th>75%</th>\n",
       "      <th>max</th>\n",
       "    </tr>\n",
       "  </thead>\n",
       "  <tbody>\n",
       "    <tr>\n",
       "      <th>Bachelor</th>\n",
       "      <td>4777.0</td>\n",
       "      <td>35578.291815</td>\n",
       "      <td>89382.060777</td>\n",
       "      <td>1000.0</td>\n",
       "      <td>1000.0</td>\n",
       "      <td>7500.0</td>\n",
       "      <td>40000.0</td>\n",
       "      <td>1000000.0</td>\n",
       "    </tr>\n",
       "    <tr>\n",
       "      <th>Master</th>\n",
       "      <td>6799.0</td>\n",
       "      <td>52706.868657</td>\n",
       "      <td>90928.786678</td>\n",
       "      <td>1000.0</td>\n",
       "      <td>3000.0</td>\n",
       "      <td>25000.0</td>\n",
       "      <td>70000.0</td>\n",
       "      <td>1000000.0</td>\n",
       "    </tr>\n",
       "    <tr>\n",
       "      <th>Doctoral</th>\n",
       "      <td>2217.0</td>\n",
       "      <td>70641.181777</td>\n",
       "      <td>117160.947589</td>\n",
       "      <td>1000.0</td>\n",
       "      <td>4000.0</td>\n",
       "      <td>40000.0</td>\n",
       "      <td>90000.0</td>\n",
       "      <td>1000000.0</td>\n",
       "    </tr>\n",
       "  </tbody>\n",
       "</table>\n",
       "</div>"
      ],
      "text/plain": [
       "           count          mean            std     min     25%      50%  \\\n",
       "Bachelor  4777.0  35578.291815   89382.060777  1000.0  1000.0   7500.0   \n",
       "Master    6799.0  52706.868657   90928.786678  1000.0  3000.0  25000.0   \n",
       "Doctoral  2217.0  70641.181777  117160.947589  1000.0  4000.0  40000.0   \n",
       "\n",
       "              75%        max  \n",
       "Bachelor  40000.0  1000000.0  \n",
       "Master    70000.0  1000000.0  \n",
       "Doctoral  90000.0  1000000.0  "
      ]
     },
     "execution_count": 49,
     "metadata": {},
     "output_type": "execute_result"
    }
   ],
   "source": [
    "#3.a Compute and report descriptive statistics for bachelor, master and doctoral \n",
    "Descriptive_statistics1 = pd.DataFrame([bachelor_col['Yearly Compensation'].describe().values,\n",
    "                                      master_col['Yearly Compensation'].describe().values,\n",
    "                                      doctoral_col['Yearly Compensation'].describe().values],\n",
    "                                      columns =bachelor_col['Yearly Compensation'].describe().index,\n",
    "                                      index = ['Bachelor','Master','Doctoral'])\n",
    "Descriptive_statistics1"
   ]
  },
  {
   "cell_type": "code",
   "execution_count": 50,
   "id": "d42199cd",
   "metadata": {},
   "outputs": [
    {
     "name": "stdout",
     "output_type": "stream",
     "text": [
      "In bootstrapped data, Bachalor's mean salary: 35578.29 with standard deviation: 89392.1, Master's mean salary: 52706.9 with standard deviation: 90928.8; Doctoral's mean salary: 117160.9 with standard deviation: 70641.2.\n"
     ]
    }
   ],
   "source": [
    "print(\"In bootstrapped data, Bachalor's mean salary: 35578.29 with standard deviation: 89392.1, Master's mean salary: 52706.9 with standard deviation: 90928.8; Doctoral's mean salary: 117160.9 with standard deviation: 70641.2.\")"
   ]
  },
  {
   "cell_type": "markdown",
   "id": "cac9e175",
   "metadata": {},
   "source": [
    "### 3.b If suitable, perform ANOVA for three groups (bachelor vs master vs doctoral)"
   ]
  },
  {
   "cell_type": "code",
   "execution_count": 51,
   "id": "d897f22d",
   "metadata": {},
   "outputs": [
    {
     "name": "stdout",
     "output_type": "stream",
     "text": [
      "Original sample of bachalor's mean salary, sample of master's mean salary and sample of doctoral's mean salary are independent.\n",
      "\n",
      "Thus, independence assumption is satisfied.\n"
     ]
    }
   ],
   "source": [
    "#Check if all assumptions of ANOVA are satisfied. \n",
    "#Check independence assumption \n",
    "print(\"Original sample of bachalor's mean salary, sample of master's mean salary and sample of doctoral's mean salary are independent.\\n\")\n",
    "print(\"Thus, independence assumption is satisfied.\")\n"
   ]
  },
  {
   "cell_type": "code",
   "execution_count": 52,
   "id": "aee09a2e",
   "metadata": {},
   "outputs": [
    {
     "data": {
      "image/png": "[encoded data removed]",
      "text/plain": [
       "<Figure size 1080x432 with 3 Axes>"
      ]
     },
     "metadata": {
      "needs_background": "light"
     },
     "output_type": "display_data"
    },
    {
     "name": "stdout",
     "output_type": "stream",
     "text": [
      "As Figure 3.1 shown, all original samples of bachelor's salary, master's salary and doctoral's salary do not follow normal distributions.\n",
      "\n",
      "Since the normality assumption is violated, not all assumptions of ANOVA are satisfied. We cannot perform ANOVA test on these three original samples.\n"
     ]
    }
   ],
   "source": [
    "#Check if all assumptions of ANOVA are satisfied. \n",
    "#Check normality assumption \n",
    "\n",
    "fig,(ax1, ax2, ax3) = plt.subplots(1,3, figsize=(15,6),sharey = True)\n",
    "ax1.hist(bachelor_col['Yearly Compensation'],bins=np.arange(0,500001,25000), color =\"lightcoral\", alpha = 0.7, label = \"Bachelor\")\n",
    "ax2.hist(master_col['Yearly Compensation'],bins=np.arange(0,500001,25000), color = \"orange\", alpha = 0.7, label = \"Master\")\n",
    "ax3.hist(doctoral_col['Yearly Compensation'],bins=np.arange(0,500001,25000), color = \"red\", alpha = 0.7, label = \"Doctoral\")\n",
    "\n",
    "#Formatting \n",
    "ax2.set_title(\"Figure 3.1: Distribution Of Salary In Original Sample (Bachelor vs Master vs Doctoral)\", fontsize = 15)\n",
    "ax1.legend(fontsize = 15)\n",
    "ax2.legend(fontsize = 15)\n",
    "ax3.legend(fontsize = 15)\n",
    "ax1.set_ylabel(\"Frequency\", fontsize =15)\n",
    "ax1.set_xlabel(\"Salary\",fontsize = 15)\n",
    "ax2.set_xlabel('Salary', fontsize = 15)\n",
    "ax3.set_xlabel('Salary',fontsize = 15)\n",
    "\n",
    "ax1.grid(alpha = 0.4)\n",
    "ax2.grid(alpha = 0.4)\n",
    "ax3.grid(alpha = 0.4)\n",
    "plt.tight_layout()\n",
    "plt.show()\n",
    "\n",
    "print(\"As Figure 3.1 shown, all original samples of bachelor's salary, master's salary and doctoral's salary do not follow normal distributions.\\n\") \n",
    "print(\"Since the normality assumption is violated, not all assumptions of ANOVA are satisfied. We cannot perform ANOVA test on these three original samples.\")"
   ]
  },
  {
   "cell_type": "markdown",
   "id": "775c2036",
   "metadata": {},
   "source": [
    "### 3.c Bootstrap data for comparing the mean of salary among three groups (bachelor vs master vs doctoral)"
   ]
  },
  {
   "cell_type": "code",
   "execution_count": 53,
   "id": "c98a2103",
   "metadata": {},
   "outputs": [
    {
     "name": "stdout",
     "output_type": "stream",
     "text": [
      "As seen in 3.b., since the three original samples for bachelor, master and doctoral do not follow normal distribution and not all assumptions for ANOVA are satisfied, we cannot perform ANOVA on original samples.\n",
      "\n",
      "Thus, we need to introduce bootstrapping this distribution-independent tool to work on this so that we can perform t-test and compare the mean salary among those three groups.\n"
     ]
    }
   ],
   "source": [
    "print(\"As seen in 3.b., since the three original samples for bachelor, master and doctoral do not follow normal distribution and not all assumptions for ANOVA are satisfied, we cannot perform ANOVA on original samples.\\n\")\n",
    "print(\"Thus, we need to introduce bootstrapping this distribution-independent tool to work on this so that we can perform t-test and compare the mean salary among those three groups.\")"
   ]
  },
  {
   "cell_type": "code",
   "execution_count": 54,
   "id": "96fa5515",
   "metadata": {},
   "outputs": [
    {
     "name": "stdout",
     "output_type": "stream",
     "text": [
      "To study the difference in average salary among bachelor, master and doctoral, I choose to variable salary (Q25) and variable Education with three levels included (Bachelor vs Master vs Doctoral) to conduct further analysis.\n",
      "\n"
     ]
    }
   ],
   "source": [
    "print(\"To study the difference in average salary among bachelor, master and doctoral, I choose to variable salary (Q25) and variable Education with three levels included (Bachelor vs Master vs Doctoral) to conduct further analysis.\\n\")\n"
   ]
  },
  {
   "cell_type": "code",
   "execution_count": 55,
   "id": "44fc3d0d",
   "metadata": {},
   "outputs": [],
   "source": [
    "#3.c Boostrap data for comparing the mean of salary among three groups (bachelor vs master vs doctoral)\n",
    "bachelor_bootstrap = bootstrap(bachelor_col['Yearly Compensation'],1000)\n",
    "master_bootstrap = bootstrap(master_col['Yearly Compensation'],1000)\n",
    "doctoral_bootstrap = bootstrap(doctoral_col['Yearly Compensation'],1000)"
   ]
  },
  {
   "cell_type": "code",
   "execution_count": 56,
   "id": "1c38ede8",
   "metadata": {},
   "outputs": [
    {
     "name": "stdout",
     "output_type": "stream",
     "text": [
      "Then we draw the bootstrapped distribution of bachelor's mean salary, master's mean salary and doctoral's mean salary.\n"
     ]
    }
   ],
   "source": [
    "print(\"Then we draw the bootstrapped distribution of bachelor's mean salary, master's mean salary and doctoral's mean salary.\")"
   ]
  },
  {
   "cell_type": "code",
   "execution_count": 57,
   "id": "ac25fd76",
   "metadata": {},
   "outputs": [
    {
     "data": {
      "image/png": "[encoded data removed]",
      "text/plain": [
       "<Figure size 1080x432 with 1 Axes>"
      ]
     },
     "metadata": {
      "needs_background": "light"
     },
     "output_type": "display_data"
    }
   ],
   "source": [
    "fig, axis = plt.subplots(figsize = (15,6))\n",
    "\n",
    "#plot boostrapped distribution of mean salary for bachelor vs master vs doctoral \n",
    "axis.hist(bachelor_bootstrap, bins = 15, color = 'lightcoral', label = \"Bachelor Degree\")\n",
    "axis.hist(master_bootstrap, bins = 15, color = 'orange', label = \"Master Degree\")\n",
    "axis.hist(doctoral_bootstrap, bins =15, color = 'red', label = \"Doctoral Degree\")\n",
    "\n",
    "\n",
    "\n",
    "axis.set_ylabel(\"Frequency\",fontsize=13)\n",
    "axis.set_xlabel(\"Mean Salary\",fontsize=13)\n",
    "axis.set_title('Figure 3.2: Bootstrapped Distribution Of Mean Salary For Bachelors, Masters And Doctorals', fontsize=15)\n",
    "axis.legend(fontsize = 10)\n",
    "axis.grid()"
   ]
  },
  {
   "cell_type": "code",
   "execution_count": 58,
   "id": "9781259c",
   "metadata": {},
   "outputs": [
    {
     "name": "stdout",
     "output_type": "stream",
     "text": [
      "As seen in above Figure 3.2, bootstrapped distributions for bachelor, master and doctoral all follow normal distrbutions.\n"
     ]
    }
   ],
   "source": [
    "print(\"As seen in above Figure 3.2, bootstrapped distributions for bachelor, master and doctoral all follow normal distrbutions.\") "
   ]
  },
  {
   "cell_type": "code",
   "execution_count": 59,
   "id": "db7b33c7",
   "metadata": {},
   "outputs": [
    {
     "data": {
      "image/png": "[encoded data removed]",
      "text/plain": [
       "<Figure size 1440x720 with 3 Axes>"
      ]
     },
     "metadata": {
      "needs_background": "light"
     },
     "output_type": "display_data"
    },
    {
     "data": {
      "text/plain": [
       "<Figure size 432x288 with 0 Axes>"
      ]
     },
     "metadata": {},
     "output_type": "display_data"
    }
   ],
   "source": [
    "#plot 1 * 3 subplots \n",
    "fig, (ax1,ax2,ax3) = plt.subplots(1,3, figsize = (20,10),sharey = True)\n",
    "\n",
    "#plot boostrapped distribution of difference in mean salary\n",
    "ax1.hist(master_bootstrap - bachelor_bootstrap, bins = 15, color = \"mediumslateblue\", alpha =  0.7, label = \"Master - Bachelor\")\n",
    "ax2.hist(doctoral_bootstrap - master_bootstrap, bins = 15, color = \"darkviolet\", alpha =  0.7, label = \"Doctoral - Master\")\n",
    "ax3.hist(doctoral_bootstrap - bachelor_bootstrap, bins = 15, color = \"indigo\", alpha =  0.7, label = \"Doctoral - Bachelor\")\n",
    "\n",
    "ax1.set_xlabel(\"Difference in Mean Salary (Master - Bachelor)\", fontsize=16)\n",
    "ax2.set_xlabel(\"Difference in Mean Salary (Doctoral - Master)\", fontsize=16)\n",
    "ax3.set_xlabel(\"Difference in Mean Salary (Doctoral - Bachelor)\", fontsize=16)\n",
    "ax1.set_ylabel('Frequency', fontsize =16)\n",
    "ax2.set_title(\"Figure 3.3: Bootstrapped Distribution Difference in Mean Salary Among Bachelors, Masters And Doctorals \", fontsize=20, pad=20)\n",
    "\n",
    "ax1.legend(fontsize = 13)\n",
    "ax2.legend(fontsize = 13)\n",
    "ax3.legend(fontsize = 13)\n",
    "\n",
    "ax1.grid()\n",
    "ax2.grid()\n",
    "ax3.grid()\n",
    "\n",
    "plt.show()\n",
    "plt.tight_layout()\n",
    "\n"
   ]
  },
  {
   "cell_type": "code",
   "execution_count": 60,
   "id": "104007de",
   "metadata": {},
   "outputs": [
    {
     "name": "stdout",
     "output_type": "stream",
     "text": [
      "As seen in above Figure 3.3, all three bootstrapped distributions of difference in mean salary follow normal distributions.\n"
     ]
    }
   ],
   "source": [
    "print(\"As seen in above Figure 3.3, all three bootstrapped distributions of difference in mean salary follow normal distributions.\")"
   ]
  },
  {
   "cell_type": "markdown",
   "id": "9ae04db0",
   "metadata": {},
   "source": [
    "### 3.d  If suitable, perform ANOVA with a 0.05 threshold on the bootstraped data "
   ]
  },
  {
   "cell_type": "code",
   "execution_count": 61,
   "id": "01859249",
   "metadata": {},
   "outputs": [
    {
     "data": {
      "text/plain": [
       "1287.4083674321032"
      ]
     },
     "execution_count": 61,
     "metadata": {},
     "output_type": "execute_result"
    }
   ],
   "source": [
    "#Check whether homogenity of variances are satisfied. \n",
    "#Check bootstrapped sample's standard deviation for bachelors \n",
    "bachelor_bootstrap.std()\n"
   ]
  },
  {
   "cell_type": "code",
   "execution_count": 62,
   "id": "456043bd",
   "metadata": {},
   "outputs": [
    {
     "data": {
      "text/plain": [
       "1088.7477370086924"
      ]
     },
     "execution_count": 62,
     "metadata": {},
     "output_type": "execute_result"
    }
   ],
   "source": [
    "#Check bootstrapped sample's standard deviation for masters \n",
    "master_bootstrap.std()"
   ]
  },
  {
   "cell_type": "code",
   "execution_count": 63,
   "id": "97457209",
   "metadata": {},
   "outputs": [
    {
     "data": {
      "text/plain": [
       "2497.017280452452"
      ]
     },
     "execution_count": 63,
     "metadata": {},
     "output_type": "execute_result"
    }
   ],
   "source": [
    "#Check bootstrapped sample's standard deviation for doctorals\n",
    "doctoral_bootstrap.std()"
   ]
  },
  {
   "cell_type": "code",
   "execution_count": 64,
   "id": "97e03766",
   "metadata": {},
   "outputs": [
    {
     "name": "stdout",
     "output_type": "stream",
     "text": [
      "Check homogenity of variances assumption:\n",
      "\n",
      "As seen in previous three numbers, the standard deviations of bootstrapped sample of mean salary for all three groups are within the same range (1000+ - 2000+) and approximately equal (As clarified and agreed by TA)\n",
      "\n",
      "Thus, the homogenity of variances assumption is satisfied.\n"
     ]
    }
   ],
   "source": [
    "print(\"Check homogenity of variances assumption:\\n\")\n",
    "print('As seen in previous three numbers, the standard deviations of bootstrapped sample of mean salary for all three groups are within the same range (1000+ - 2000+) and approximately equal (As clarified and agreed by TA)\\n')\n",
    "print(\"Thus, the homogenity of variances assumption is satisfied.\")"
   ]
  },
  {
   "cell_type": "code",
   "execution_count": 65,
   "id": "91e3e7bd",
   "metadata": {},
   "outputs": [
    {
     "name": "stdout",
     "output_type": "stream",
     "text": [
      "As previously illustrated in 3.c, all bootstrapped distribution bachelor's mean salary, master's salary and doctoral's salary follow normal distributions.\n",
      "\n",
      "Thus, normality assumption is satisfied.\n",
      "\n",
      "The bootstrapped sample of bachelor's mean salary, the boostrapped sample of master's mean salary and the bootstrapped sample of doctoral' mean salary are independent.\n",
      "\n",
      "Thus, the independence assumption is satisfied.\n",
      "\n",
      "The homogeneity of variances are also satisfied (Justified before).\n",
      "\n",
      "All assumptions for ANOVA are saitisfied, we can perform ANOVA test on these bootstrapped data.\n"
     ]
    }
   ],
   "source": [
    "print(\"As previously illustrated in 3.c, all bootstrapped distribution bachelor's mean salary, master's salary and doctoral's salary follow normal distributions.\\n\")\n",
    "print(\"Thus, normality assumption is satisfied.\\n\")\n",
    "print(\"The bootstrapped sample of bachelor's mean salary, the boostrapped sample of master's mean salary and the bootstrapped sample of doctoral' mean salary are independent.\\n\")\n",
    "print(\"Thus, the independence assumption is satisfied.\\n\")\n",
    "print(\"The homogeneity of variances are also satisfied (Justified before).\\n\")\n",
    "print(\"All assumptions for ANOVA are saitisfied, we can perform ANOVA test on these bootstrapped data.\")"
   ]
  },
  {
   "cell_type": "code",
   "execution_count": 66,
   "id": "f374f4c1",
   "metadata": {},
   "outputs": [
    {
     "name": "stdout",
     "output_type": "stream",
     "text": [
      "Threshold (alpha) = 0.05\n",
      "F-value:  100765.60677654856\n",
      "p-value:  0.0\n",
      "Null hypothesis:  bachelor_mean_salary = master_mean_salary = doctoral_mean_salary\n",
      "\n",
      "Here the bachelor, master and doctoral are the three levels of the independent variable: Education, thus, I choose to perform one-way ANOVA on these three groups. The salary variable is the variable of interest.\n",
      "\n",
      "For the hypothesis testing, the null hypothesis is that there is no difference in average salary among bachelors, masters and doctorals.\n",
      "\n",
      "Alternative Hypothesis: At least of bachelor_mean_salary, or master_mean_salary or doctoral_mean_salary is different.\n",
      "\n",
      "Given 0.05 threshold,for this one-way ANOVA, the F-statistic is 100765.6068 and the P value is 0.0000\n",
      "\n",
      "Since P value < 0.05, we reject the null hypothesis.\n",
      "\n"
     ]
    }
   ],
   "source": [
    "#3.d Perform ANOVA with a 0.05 threshold on the bootstraped data \n",
    "Fstas, Pval2 = f_oneway(bachelor_bootstrap, master_bootstrap, doctoral_bootstrap)\n",
    "\n",
    "print(\"Threshold (alpha) = 0.05\")\n",
    "print(\"F-value: \", Fstas)\n",
    "print(\"p-value: \", Pval2,)\n",
    "print(\"Null hypothesis: \",\"bachelor_mean_salary = master_mean_salary = doctoral_mean_salary\\n\" )\n",
    "\n",
    "\n",
    "print(\"Here the bachelor, master and doctoral are the three levels of the independent variable: Education, thus, I choose to perform one-way ANOVA on these three groups. The salary variable is the variable of interest.\\n\")\n",
    "print(\"For the hypothesis testing, the null hypothesis is that there is no difference in average salary among bachelors, masters and doctorals.\\n\")\n",
    "print(\"Alternative Hypothesis: At least of bachelor_mean_salary, or master_mean_salary or doctoral_mean_salary is different.\\n\")\n",
    "print(\"Given 0.05 threshold,for this one-way ANOVA, the F-statistic is {0:.4f} and the P value is {1:.4f}\\n\".format(Fstas, Pval2))  \n",
    "print(\"Since P value < 0.05, we reject the null hypothesis.\\n\")\n"
   ]
  },
  {
   "cell_type": "markdown",
   "id": "179ff724",
   "metadata": {},
   "source": [
    "### 3.e Comment on the findings "
   ]
  },
  {
   "cell_type": "code",
   "execution_count": 67,
   "id": "393833fc",
   "metadata": {},
   "outputs": [
    {
     "name": "stdout",
     "output_type": "stream",
     "text": [
      "According to the results of performing ANOVA on bootstrapped data, we get the P value = 0.0.\n",
      "\n",
      "The null hypothesis for this ANOVA is that there is no difference in mean salary among bachelors, masters and doctorals.\n",
      "\n",
      "Given a 0.05 threshold, since P value << 0.05, we have the strong evidence to reject the null hypothesis\n",
      "\n",
      "We conclude that at least one education group from bachelors, masters and doctorals has statistically significant different average salary than the others.\n",
      "\n"
     ]
    }
   ],
   "source": [
    "print(\"According to the results of performing ANOVA on bootstrapped data, we get the P value = 0.0.\\n\")\n",
    "print(\"The null hypothesis for this ANOVA is that there is no difference in mean salary among bachelors, masters and doctorals.\\n\")\n",
    "print(\"Given a 0.05 threshold, since P value << 0.05, we have the strong evidence to reject the null hypothesis\\n\")\n",
    "print(\"We conclude that at least one education group from bachelors, masters and doctorals has statistically significant different average salary than the others.\\n\")     \n",
    "\n",
    "      \n",
    "      "
   ]
  }
 ],
 "metadata": {
  "kernelspec": {
   "display_name": "Python 3 (ipykernel)",
   "language": "python",
   "name": "python3"
  },
  "language_info": {
   "codemirror_mode": {
    "name": "ipython",
    "version": 3
   },
   "file_extension": ".py",
   "mimetype": "text/x-python",
   "name": "python",
   "nbconvert_exporter": "python",
   "pygments_lexer": "ipython3",
   "version": "3.9.7"
  }
 },
 "nbformat": 4,
 "nbformat_minor": 5
}
